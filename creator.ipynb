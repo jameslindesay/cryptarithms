{
 "cells": [
  {
   "attachments": {},
   "cell_type": "markdown",
   "metadata": {},
   "source": [
    "# Readable Cryptarithms Creator\n",
    "\n",
    "<table rules=none><tr>\n",
    "\n",
    "<td><p>\n",
    "A term coined in 1931 by mathematician Simon Vatriquant (pictured right), a <a href=\"https://en.wikipedia.org/wiki/Verbal_arithmetic\">cryptarithm</a> is an arithmetic puzzle in which letters have been substituted for numbers. Solving a cryptarithm involves finding all possible pairings of digits with letters that produce a numerically correct answer. Each letter represents a different digit, and the leading digit of each word cannot be zero.\n",
    "<br><br>\n",
    "This workbook uses a dictionary of English words (<a href=\"https://github.com/dwyl/english-words\">hosted here</a>) to create three word cryptarithms.\n",
    "</p></td>\n",
    "\n",
    "<td><img src=\"https://upload.wikimedia.org/wikipedia/commons/d/d2/SimonVatriquant.JPG\" alt=\"Vatriquant\" style=\"width:250px;\"/></td>\n",
    "</tr></table>"
   ]
  },
  {
   "attachments": {},
   "cell_type": "markdown",
   "metadata": {},
   "source": [
    "#### Initialisation"
   ]
  },
  {
   "cell_type": "code",
   "execution_count": 3,
   "metadata": {},
   "outputs": [],
   "source": [
    "import urllib.request, json # retrieve english dictionary\n",
    "import itertools # permutations and combinations of digits\n",
    "from IPython.display import clear_output # clear progress print statements\n",
    "from tqdm import tqdm # progress bars for slow loops"
   ]
  },
  {
   "cell_type": "code",
   "execution_count": 139,
   "metadata": {},
   "outputs": [
    {
     "name": "stdout",
     "output_type": "stream",
     "text": [
      "Reading data (size 6.5 MB)...\n",
      "Data successfully read.\n"
     ]
    }
   ],
   "source": [
    "# Read English wordlist to dictionary\n",
    "wordlist_url = \"https://raw.githubusercontent.com/dwyl/english-words/master/words_dictionary.json\"\n",
    "with urllib.request.urlopen(wordlist_url) as response:\n",
    "    print(f\"Reading data (size {round(int(response.getheader('content-length'))/int(1024**2), 1)} MB)...\")\n",
    "    data = json.load(response)\n",
    "    print(\"Data successfully read.\")"
   ]
  },
  {
   "cell_type": "code",
   "execution_count": 15,
   "metadata": {},
   "outputs": [],
   "source": [
    "# Helper functions\n",
    "\n",
    "def assign_possible_digits_to_words(list_of_words, allow_zero_leading_letter=False):\n",
    "    word_set = set(''.join(list_of_words))\n",
    "    num_digits = len(word_set)\n",
    "\n",
    "    if len(word_set) > 10:\n",
    "        raise ValueError(f\"The words '{list_of_words}' has more than 10 characters, cannot assign digits uniquely.\")\n",
    "\n",
    "    digit_combinations = itertools.combinations(range(10), num_digits)\n",
    "    sets = list(set(itertools.permutations(dc)) for dc in digit_combinations)\n",
    "    \n",
    "    digits_to_map_list = []\n",
    "    for s in sets:\n",
    "        digits_to_map_list.extend(s)\n",
    "\n",
    "    dicts = []\n",
    "    for digits_to_map in digits_to_map_list:\n",
    "        dicts.append(dict(zip(word_set, digits_to_map)))\n",
    "\n",
    "    # prune dicts with first letters assigned to zero if allow_zero_leading_letter is False (default behaviour)\n",
    "    if not allow_zero_leading_letter:\n",
    "        first_letters = [w[0] for w in list_of_words]\n",
    "        dicts_pruned = []\n",
    "        for d in dicts:\n",
    "            try:    # if 0 is in values but does not have a key in first_letters\n",
    "                if list(d.keys())[list(d.values()).index(0)] not in first_letters:\n",
    "                    dicts_pruned.append(d)\n",
    "            except: # if 0 is not in values\n",
    "                dicts_pruned.append(d)\n",
    "        dicts = dicts_pruned\n",
    "\n",
    "    return dicts\n",
    "\n",
    "\n",
    "def value_word(word, dictionary):\n",
    "    v = \"\"\n",
    "    for char in word:\n",
    "        v += str(dictionary[char])\n",
    "    return int(v)\n",
    "\n",
    "\n",
    "def is_valid_three_words(list_of_three_words, operator='+', allow_zero_leading_letter=False):\n",
    "    if operator not in ['+', '*', '-', '/']:\n",
    "        raise ValueError(f\"Operator '{operator}' is not valid (use ['+', '*', '-', '/']).\")\n",
    "    \n",
    "    print('Finding all possible digit mappings for letters...', end='\\r')\n",
    "    digit_dict = assign_possible_digits_to_words(list_of_three_words, allow_zero_leading_letter)\n",
    "    clear_output(wait=False)\n",
    "\n",
    "    if operator == '+':\n",
    "        for d in tqdm(digit_dict, desc=\"Checking sums\", leave=False):\n",
    "            if value_word(list_of_three_words[0], d) + value_word(list_of_three_words[1], d) == value_word(list_of_three_words[2], d):\n",
    "                return True\n",
    "    elif operator == '*':\n",
    "        for d in tqdm(digit_dict, desc=\"Checking products\", leave=False):\n",
    "            if value_word(list_of_three_words[0], d) * value_word(list_of_three_words[1], d) == value_word(list_of_three_words[2], d):\n",
    "                return True\n",
    "    elif operator == '-':\n",
    "        for d in tqdm(digit_dict, desc=\"Checking differences\", leave=False):\n",
    "            if value_word(list_of_three_words[0], d) - value_word(list_of_three_words[1], d) == value_word(list_of_three_words[2], d):\n",
    "                return True\n",
    "    elif operator == '/':\n",
    "        for d in tqdm(digit_dict, desc=\"Checking quotients\", leave=False):\n",
    "            if value_word(list_of_three_words[0], d) / value_word(list_of_three_words[1], d) == value_word(list_of_three_words[2], d):\n",
    "                return True\n",
    "            \n",
    "    return False"
   ]
  },
  {
   "cell_type": "code",
   "execution_count": 20,
   "metadata": {},
   "outputs": [],
   "source": [
    "WORD1 = \"SEND\"\n",
    "WORD2 = \"MORE\"\n",
    "WORD3 = \"MONEY\"\n",
    "OPERATOR = \"+\""
   ]
  },
  {
   "cell_type": "code",
   "execution_count": 21,
   "metadata": {},
   "outputs": [
    {
     "name": "stderr",
     "output_type": "stream",
     "text": [
      "                                                                           "
     ]
    },
    {
     "name": "stdout",
     "output_type": "stream",
     "text": [
      "SEND + MORE = MONEY is a valid cryptarithm!\n"
     ]
    },
    {
     "name": "stderr",
     "output_type": "stream",
     "text": [
      "\r"
     ]
    }
   ],
   "source": [
    "result = is_valid_three_words([WORD1, WORD2, WORD3], OPERATOR, allow_zero_leading_letter=False)\n",
    "if result:\n",
    "    print(f\"{WORD1} {OPERATOR} {WORD2} = {WORD3} is a valid cryptarithm!\")\n",
    "else:\n",
    "    print(f\"{WORD1} {OPERATOR} {WORD2} = {WORD3} is not a valid cryptarithm.\")"
   ]
  }
 ],
 "metadata": {
  "kernelspec": {
   "display_name": "Python 3",
   "language": "python",
   "name": "python3"
  },
  "language_info": {
   "codemirror_mode": {
    "name": "ipython",
    "version": 3
   },
   "file_extension": ".py",
   "mimetype": "text/x-python",
   "name": "python",
   "nbconvert_exporter": "python",
   "pygments_lexer": "ipython3",
   "version": "3.10.8"
  },
  "orig_nbformat": 4,
  "vscode": {
   "interpreter": {
    "hash": "26de051ba29f2982a8de78e945f0abaf191376122a1563185a90213a26c5da77"
   }
  }
 },
 "nbformat": 4,
 "nbformat_minor": 2
}
